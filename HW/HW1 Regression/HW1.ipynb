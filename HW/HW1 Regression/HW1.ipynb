{
 "cells": [
  {
   "cell_type": "code",
   "execution_count": 1,
   "metadata": {},
   "outputs": [],
   "source": [
    "import numpy as np\n",
    "import pandas as pd\n",
    "import matplotlib.pyplot as plt\n",
    "\n",
    "import torch\n",
    "from torch import nn\n",
    "from torch.nn import functional as F\n",
    "from torch.utils import data\n",
    "\n",
    "from sklearn.preprocessing import MinMaxScaler"
   ]
  },
  {
   "cell_type": "markdown",
   "metadata": {},
   "source": [
    "## HW1 Regression\n",
    "\n",
    "**Address**: https://www.kaggle.com/c/ml2021spring-hw1\n",
    "\n",
    "### Task Description\n",
    "\n",
    "- COVID-19 daily cases prediction\n",
    "- Training data: 2700 samples\n",
    "- Testing data: 893 samples\n",
    "- Evaluation metric: Root Mean Squared Error (RMSE)"
   ]
  },
  {
   "cell_type": "markdown",
   "metadata": {},
   "source": [
    "### Data Processing"
   ]
  },
  {
   "cell_type": "markdown",
   "metadata": {},
   "source": [
    "Read Data"
   ]
  },
  {
   "cell_type": "code",
   "execution_count": 2,
   "metadata": {},
   "outputs": [
    {
     "data": {
      "text/html": [
       "<div>\n",
       "<style scoped>\n",
       "    .dataframe tbody tr th:only-of-type {\n",
       "        vertical-align: middle;\n",
       "    }\n",
       "\n",
       "    .dataframe tbody tr th {\n",
       "        vertical-align: top;\n",
       "    }\n",
       "\n",
       "    .dataframe thead th {\n",
       "        text-align: right;\n",
       "    }\n",
       "</style>\n",
       "<table border=\"1\" class=\"dataframe\">\n",
       "  <thead>\n",
       "    <tr style=\"text-align: right;\">\n",
       "      <th></th>\n",
       "      <th>id</th>\n",
       "      <th>AL</th>\n",
       "      <th>AK</th>\n",
       "      <th>AZ</th>\n",
       "      <th>AR</th>\n",
       "      <th>CA</th>\n",
       "      <th>CO</th>\n",
       "      <th>CT</th>\n",
       "      <th>FL</th>\n",
       "      <th>GA</th>\n",
       "      <th>...</th>\n",
       "      <th>restaurant.2</th>\n",
       "      <th>spent_time.2</th>\n",
       "      <th>large_event.2</th>\n",
       "      <th>public_transit.2</th>\n",
       "      <th>anxious.2</th>\n",
       "      <th>depressed.2</th>\n",
       "      <th>felt_isolated.2</th>\n",
       "      <th>worried_become_ill.2</th>\n",
       "      <th>worried_finances.2</th>\n",
       "      <th>tested_positive.2</th>\n",
       "    </tr>\n",
       "  </thead>\n",
       "  <tbody>\n",
       "    <tr>\n",
       "      <th>count</th>\n",
       "      <td>2700.000000</td>\n",
       "      <td>2700.000000</td>\n",
       "      <td>2700.000000</td>\n",
       "      <td>2700.000000</td>\n",
       "      <td>2700.000000</td>\n",
       "      <td>2700.000000</td>\n",
       "      <td>2700.000000</td>\n",
       "      <td>2700.000000</td>\n",
       "      <td>2700.000000</td>\n",
       "      <td>2700.000000</td>\n",
       "      <td>...</td>\n",
       "      <td>2700.000000</td>\n",
       "      <td>2700.000000</td>\n",
       "      <td>2700.000000</td>\n",
       "      <td>2700.000000</td>\n",
       "      <td>2700.000000</td>\n",
       "      <td>2700.000000</td>\n",
       "      <td>2700.000000</td>\n",
       "      <td>2700.000000</td>\n",
       "      <td>2700.000000</td>\n",
       "      <td>2700.000000</td>\n",
       "    </tr>\n",
       "    <tr>\n",
       "      <th>mean</th>\n",
       "      <td>1349.500000</td>\n",
       "      <td>0.024815</td>\n",
       "      <td>0.024815</td>\n",
       "      <td>0.024815</td>\n",
       "      <td>0.024815</td>\n",
       "      <td>0.024815</td>\n",
       "      <td>0.024815</td>\n",
       "      <td>0.024815</td>\n",
       "      <td>0.024815</td>\n",
       "      <td>0.024815</td>\n",
       "      <td>...</td>\n",
       "      <td>16.578290</td>\n",
       "      <td>36.074941</td>\n",
       "      <td>10.257474</td>\n",
       "      <td>2.385735</td>\n",
       "      <td>18.067635</td>\n",
       "      <td>13.058828</td>\n",
       "      <td>19.243283</td>\n",
       "      <td>64.834307</td>\n",
       "      <td>44.568440</td>\n",
       "      <td>16.431280</td>\n",
       "    </tr>\n",
       "    <tr>\n",
       "      <th>std</th>\n",
       "      <td>779.567188</td>\n",
       "      <td>0.155589</td>\n",
       "      <td>0.155589</td>\n",
       "      <td>0.155589</td>\n",
       "      <td>0.155589</td>\n",
       "      <td>0.155589</td>\n",
       "      <td>0.155589</td>\n",
       "      <td>0.155589</td>\n",
       "      <td>0.155589</td>\n",
       "      <td>0.155589</td>\n",
       "      <td>...</td>\n",
       "      <td>5.651583</td>\n",
       "      <td>6.655166</td>\n",
       "      <td>4.686263</td>\n",
       "      <td>1.053147</td>\n",
       "      <td>2.250081</td>\n",
       "      <td>1.628589</td>\n",
       "      <td>2.708339</td>\n",
       "      <td>6.220087</td>\n",
       "      <td>5.232030</td>\n",
       "      <td>7.619354</td>\n",
       "    </tr>\n",
       "    <tr>\n",
       "      <th>min</th>\n",
       "      <td>0.000000</td>\n",
       "      <td>0.000000</td>\n",
       "      <td>0.000000</td>\n",
       "      <td>0.000000</td>\n",
       "      <td>0.000000</td>\n",
       "      <td>0.000000</td>\n",
       "      <td>0.000000</td>\n",
       "      <td>0.000000</td>\n",
       "      <td>0.000000</td>\n",
       "      <td>0.000000</td>\n",
       "      <td>...</td>\n",
       "      <td>3.637414</td>\n",
       "      <td>21.485815</td>\n",
       "      <td>2.118674</td>\n",
       "      <td>0.728770</td>\n",
       "      <td>12.980786</td>\n",
       "      <td>8.370536</td>\n",
       "      <td>13.400399</td>\n",
       "      <td>48.225603</td>\n",
       "      <td>33.113882</td>\n",
       "      <td>2.338708</td>\n",
       "    </tr>\n",
       "    <tr>\n",
       "      <th>25%</th>\n",
       "      <td>674.750000</td>\n",
       "      <td>0.000000</td>\n",
       "      <td>0.000000</td>\n",
       "      <td>0.000000</td>\n",
       "      <td>0.000000</td>\n",
       "      <td>0.000000</td>\n",
       "      <td>0.000000</td>\n",
       "      <td>0.000000</td>\n",
       "      <td>0.000000</td>\n",
       "      <td>0.000000</td>\n",
       "      <td>...</td>\n",
       "      <td>13.200532</td>\n",
       "      <td>30.606711</td>\n",
       "      <td>6.532543</td>\n",
       "      <td>1.714080</td>\n",
       "      <td>16.420485</td>\n",
       "      <td>11.914167</td>\n",
       "      <td>17.322912</td>\n",
       "      <td>59.782876</td>\n",
       "      <td>40.549987</td>\n",
       "      <td>10.327314</td>\n",
       "    </tr>\n",
       "    <tr>\n",
       "      <th>50%</th>\n",
       "      <td>1349.500000</td>\n",
       "      <td>0.000000</td>\n",
       "      <td>0.000000</td>\n",
       "      <td>0.000000</td>\n",
       "      <td>0.000000</td>\n",
       "      <td>0.000000</td>\n",
       "      <td>0.000000</td>\n",
       "      <td>0.000000</td>\n",
       "      <td>0.000000</td>\n",
       "      <td>0.000000</td>\n",
       "      <td>...</td>\n",
       "      <td>16.227010</td>\n",
       "      <td>36.041389</td>\n",
       "      <td>9.700368</td>\n",
       "      <td>2.199521</td>\n",
       "      <td>17.684197</td>\n",
       "      <td>12.948749</td>\n",
       "      <td>18.760267</td>\n",
       "      <td>65.932259</td>\n",
       "      <td>43.997637</td>\n",
       "      <td>15.646480</td>\n",
       "    </tr>\n",
       "    <tr>\n",
       "      <th>75%</th>\n",
       "      <td>2024.250000</td>\n",
       "      <td>0.000000</td>\n",
       "      <td>0.000000</td>\n",
       "      <td>0.000000</td>\n",
       "      <td>0.000000</td>\n",
       "      <td>0.000000</td>\n",
       "      <td>0.000000</td>\n",
       "      <td>0.000000</td>\n",
       "      <td>0.000000</td>\n",
       "      <td>0.000000</td>\n",
       "      <td>...</td>\n",
       "      <td>21.207162</td>\n",
       "      <td>41.508520</td>\n",
       "      <td>13.602566</td>\n",
       "      <td>2.730469</td>\n",
       "      <td>19.503419</td>\n",
       "      <td>14.214320</td>\n",
       "      <td>20.713638</td>\n",
       "      <td>69.719651</td>\n",
       "      <td>48.118283</td>\n",
       "      <td>22.535165</td>\n",
       "    </tr>\n",
       "    <tr>\n",
       "      <th>max</th>\n",
       "      <td>2699.000000</td>\n",
       "      <td>1.000000</td>\n",
       "      <td>1.000000</td>\n",
       "      <td>1.000000</td>\n",
       "      <td>1.000000</td>\n",
       "      <td>1.000000</td>\n",
       "      <td>1.000000</td>\n",
       "      <td>1.000000</td>\n",
       "      <td>1.000000</td>\n",
       "      <td>1.000000</td>\n",
       "      <td>...</td>\n",
       "      <td>28.488220</td>\n",
       "      <td>50.606465</td>\n",
       "      <td>24.496711</td>\n",
       "      <td>8.162275</td>\n",
       "      <td>28.574091</td>\n",
       "      <td>18.715944</td>\n",
       "      <td>28.366270</td>\n",
       "      <td>77.701014</td>\n",
       "      <td>58.433600</td>\n",
       "      <td>40.959495</td>\n",
       "    </tr>\n",
       "  </tbody>\n",
       "</table>\n",
       "<p>8 rows × 95 columns</p>\n",
       "</div>"
      ],
      "text/plain": [
       "                id           AL           AK           AZ           AR  \\\n",
       "count  2700.000000  2700.000000  2700.000000  2700.000000  2700.000000   \n",
       "mean   1349.500000     0.024815     0.024815     0.024815     0.024815   \n",
       "std     779.567188     0.155589     0.155589     0.155589     0.155589   \n",
       "min       0.000000     0.000000     0.000000     0.000000     0.000000   \n",
       "25%     674.750000     0.000000     0.000000     0.000000     0.000000   \n",
       "50%    1349.500000     0.000000     0.000000     0.000000     0.000000   \n",
       "75%    2024.250000     0.000000     0.000000     0.000000     0.000000   \n",
       "max    2699.000000     1.000000     1.000000     1.000000     1.000000   \n",
       "\n",
       "                CA           CO           CT           FL           GA  ...  \\\n",
       "count  2700.000000  2700.000000  2700.000000  2700.000000  2700.000000  ...   \n",
       "mean      0.024815     0.024815     0.024815     0.024815     0.024815  ...   \n",
       "std       0.155589     0.155589     0.155589     0.155589     0.155589  ...   \n",
       "min       0.000000     0.000000     0.000000     0.000000     0.000000  ...   \n",
       "25%       0.000000     0.000000     0.000000     0.000000     0.000000  ...   \n",
       "50%       0.000000     0.000000     0.000000     0.000000     0.000000  ...   \n",
       "75%       0.000000     0.000000     0.000000     0.000000     0.000000  ...   \n",
       "max       1.000000     1.000000     1.000000     1.000000     1.000000  ...   \n",
       "\n",
       "       restaurant.2  spent_time.2  large_event.2  public_transit.2  \\\n",
       "count   2700.000000   2700.000000    2700.000000       2700.000000   \n",
       "mean      16.578290     36.074941      10.257474          2.385735   \n",
       "std        5.651583      6.655166       4.686263          1.053147   \n",
       "min        3.637414     21.485815       2.118674          0.728770   \n",
       "25%       13.200532     30.606711       6.532543          1.714080   \n",
       "50%       16.227010     36.041389       9.700368          2.199521   \n",
       "75%       21.207162     41.508520      13.602566          2.730469   \n",
       "max       28.488220     50.606465      24.496711          8.162275   \n",
       "\n",
       "         anxious.2  depressed.2  felt_isolated.2  worried_become_ill.2  \\\n",
       "count  2700.000000  2700.000000      2700.000000           2700.000000   \n",
       "mean     18.067635    13.058828        19.243283             64.834307   \n",
       "std       2.250081     1.628589         2.708339              6.220087   \n",
       "min      12.980786     8.370536        13.400399             48.225603   \n",
       "25%      16.420485    11.914167        17.322912             59.782876   \n",
       "50%      17.684197    12.948749        18.760267             65.932259   \n",
       "75%      19.503419    14.214320        20.713638             69.719651   \n",
       "max      28.574091    18.715944        28.366270             77.701014   \n",
       "\n",
       "       worried_finances.2  tested_positive.2  \n",
       "count         2700.000000        2700.000000  \n",
       "mean            44.568440          16.431280  \n",
       "std              5.232030           7.619354  \n",
       "min             33.113882           2.338708  \n",
       "25%             40.549987          10.327314  \n",
       "50%             43.997637          15.646480  \n",
       "75%             48.118283          22.535165  \n",
       "max             58.433600          40.959495  \n",
       "\n",
       "[8 rows x 95 columns]"
      ]
     },
     "execution_count": 2,
     "metadata": {},
     "output_type": "execute_result"
    }
   ],
   "source": [
    "train_set = pd.read_csv('./Data/covid.train.csv')\n",
    "test_set = pd.read_csv('./Data/covid.test.csv')\n",
    "train_set.describe()"
   ]
  },
  {
   "cell_type": "markdown",
   "metadata": {},
   "source": [
    "Min-Max Scale"
   ]
  },
  {
   "cell_type": "code",
   "execution_count": 3,
   "metadata": {},
   "outputs": [],
   "source": [
    "features = train_set.iloc[:, :-1].values\n",
    "labels = train_set.iloc[:, -1].values\n",
    "\n",
    "scale = MinMaxScaler()\n",
    "features_scaled = scale.fit_transform(features)\n",
    "test_set_scaled = scale.transform(test_set.values)\n",
    "\n",
    "labels_scaled = labels / 100"
   ]
  },
  {
   "cell_type": "markdown",
   "metadata": {},
   "source": [
    "Load Dataset"
   ]
  },
  {
   "cell_type": "code",
   "execution_count": 4,
   "metadata": {},
   "outputs": [],
   "source": [
    "def load_Dataset(data_arrays, batch_size, shuffle = True):\n",
    "    dataset = data.TensorDataset(*data_arrays)\n",
    "    return data.DataLoader(dataset, batch_size, shuffle)\n",
    "\n",
    "features_scaled_tensor = torch.FloatTensor(features_scaled)\n",
    "labels_scaled_tensor = torch.FloatTensor(labels_scaled)\n",
    "\n",
    "train_iter = load_Dataset((features_scaled_tensor, \n",
    "                           labels_scaled_tensor),\n",
    "                           batch_size = 100)"
   ]
  },
  {
   "cell_type": "markdown",
   "metadata": {},
   "source": [
    "Define model, loss and optimizer, then train."
   ]
  },
  {
   "cell_type": "code",
   "execution_count": 10,
   "metadata": {},
   "outputs": [
    {
     "name": "stdout",
     "output_type": "stream",
     "text": [
      "epoch: 0, loss: 0.168\n",
      "epoch: 1, loss: 0.070\n",
      "epoch: 2, loss: 0.046\n",
      "epoch: 3, loss: 0.034\n",
      "epoch: 4, loss: 0.029\n",
      "epoch: 5, loss: 0.025\n",
      "epoch: 6, loss: 0.023\n",
      "epoch: 7, loss: 0.021\n",
      "epoch: 8, loss: 0.020\n",
      "epoch: 9, loss: 0.019\n",
      "epoch: 10, loss: 0.018\n",
      "epoch: 11, loss: 0.017\n",
      "epoch: 12, loss: 0.016\n",
      "epoch: 13, loss: 0.015\n",
      "epoch: 14, loss: 0.014\n",
      "epoch: 15, loss: 0.013\n",
      "epoch: 16, loss: 0.013\n",
      "epoch: 17, loss: 0.012\n",
      "epoch: 18, loss: 0.012\n",
      "epoch: 19, loss: 0.011\n"
     ]
    },
    {
     "data": {
      "text/plain": [
       "Text(0, 0.5, 'loss')"
      ]
     },
     "execution_count": 10,
     "metadata": {},
     "output_type": "execute_result"
    },
    {
     "data": {
      "image/png": "[encoded data removed]",
      "text/plain": [
       "<Figure size 432x288 with 1 Axes>"
      ]
     },
     "metadata": {
      "needs_background": "light"
     },
     "output_type": "display_data"
    }
   ],
   "source": [
    "model = nn.Sequential(\n",
    "    nn.Linear(94, 128), nn.ReLU(),\n",
    "    nn.Linear(128, 128), nn.ReLU(),\n",
    "    nn.Linear(128, 1)\n",
    ")\n",
    "\n",
    "loss = nn.MSELoss()\n",
    "Optimizer = torch.optim.SGD(model.parameters(), lr = 0.1)\n",
    "\n",
    "epochs = 20\n",
    "loss_list = []\n",
    "for epoch in range(epochs):\n",
    "    l_sum = 0\n",
    "    for X, y in train_iter:\n",
    "        l = loss(model(X).reshape(-1), y)\n",
    "        Optimizer.zero_grad()\n",
    "        l.backward()\n",
    "        Optimizer.step()\n",
    "        l_sum += float(l)\n",
    "    loss_list.append(l_sum)\n",
    "    print(f'epoch: {epoch}, loss: {l_sum:.3f}')\n",
    "    \n",
    "plt.plot(loss_list)\n",
    "plt.title('MSE loss')\n",
    "plt.xlabel('epoch')\n",
    "plt.ylabel('loss')"
   ]
  },
  {
   "cell_type": "code",
   "execution_count": 16,
   "metadata": {},
   "outputs": [
    {
     "data": {
      "image/png": "[encoded data removed]",
      "text/plain": [
       "<Figure size 432x288 with 1 Axes>"
      ]
     },
     "metadata": {
      "needs_background": "light"
     },
     "output_type": "display_data"
    }
   ],
   "source": [
    "with torch.no_grad():\n",
    "    predictions = model(features_scaled_tensor.detach()).reshape(-1)\n",
    "    plt.plot(predictions)\n",
    "    plt.plot(labels_scaled_tensor)"
   ]
  },
  {
   "cell_type": "markdown",
   "metadata": {},
   "source": [
    "On test set:"
   ]
  },
  {
   "cell_type": "code",
   "execution_count": 25,
   "metadata": {},
   "outputs": [
    {
     "data": {
      "text/plain": [
       "[<matplotlib.lines.Line2D at 0x7fad3dc1ab50>]"
      ]
     },
     "execution_count": 25,
     "metadata": {},
     "output_type": "execute_result"
    },
    {
     "data": {
      "image/png": "[encoded data removed]",
      "text/plain": [
       "<Figure size 432x288 with 1 Axes>"
      ]
     },
     "metadata": {
      "needs_background": "light"
     },
     "output_type": "display_data"
    }
   ],
   "source": [
    "test_tensor = torch.FloatTensor(test_set_scaled)\n",
    "test_pred = model(test_tensor).reshape(-1, 1).detach().numpy()\n",
    "plt.plot(test_pred)"
   ]
  },
  {
   "cell_type": "code",
   "execution_count": 53,
   "metadata": {},
   "outputs": [],
   "source": [
    "id = np.arange(test_pred.shape[0], dtype = int).reshape(-1, 1)\n",
    "Submission = pd.DataFrame(np.concatenate((id, test_pred * 100), axis = 1), \n",
    "                          columns = ['id', 'tested_positive'])\n",
    "Submission.set_index(['id'], inplace=True)\n",
    "Submission.to_csv('./Submission.csv')"
   ]
  }
 ],
 "metadata": {
  "interpreter": {
   "hash": "916dbcbb3f70747c44a77c7bcd40155683ae19c65e1c03b4aa3499c5328201f1"
  },
  "kernelspec": {
   "display_name": "Python 3.8.10 64-bit",
   "language": "python",
   "name": "python3"
  },
  "language_info": {
   "codemirror_mode": {
    "name": "ipython",
    "version": 3
   },
   "file_extension": ".py",
   "mimetype": "text/x-python",
   "name": "python",
   "nbconvert_exporter": "python",
   "pygments_lexer": "ipython3",
   "version": "3.8.10"
  },
  "orig_nbformat": 4
 },
 "nbformat": 4,
 "nbformat_minor": 2
}
